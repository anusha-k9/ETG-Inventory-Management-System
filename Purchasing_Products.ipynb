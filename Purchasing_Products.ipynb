{
 "cells": [
  {
   "cell_type": "markdown",
   "metadata": {},
   "source": [
    "# ► BILLING AND SALES FILE"
   ]
  },
  {
   "cell_type": "markdown",
   "metadata": {
    "id": "R6NHgAYkxqSl"
   },
   "source": [
    "## ➤ Read Inventory from record.json file"
   ]
  },
  {
   "cell_type": "code",
   "execution_count": 1,
   "metadata": {
    "id": "jkJT24jqug9n",
    "tags": []
   },
   "outputs": [],
   "source": [
    "# json module to access and work on json files\n",
    "import json\n",
    "\n",
    "# opening the file in read mode\n",
    "fd = open(\"record.json\",'r')\n",
    "\n",
    "r = fd.read()\n",
    "\n",
    "fd.close()\n",
    "\n",
    "# records will contain all the file data\n",
    "records = json.loads(r)"
   ]
  },
  {
   "cell_type": "markdown",
   "metadata": {},
   "source": [
    "## ➤ Reading the data"
   ]
  },
  {
   "cell_type": "code",
   "execution_count": 2,
   "metadata": {
    "colab": {
     "base_uri": "https://localhost:8080/"
    },
    "id": "CcLYokrlus6z",
    "outputId": "525ffebc-7e32-463b-b0a4-2e6e9fc73f7c"
   },
   "outputs": [
    {
     "data": {
      "text/plain": [
       "{'1001': {'name': 'Choco Cake', 'qn': 34, 'pr': 100},\n",
       " '1002': {'name': 'Milk Cake', 'pr': 700, 'qn': 100},\n",
       " '1003': {'name': 'Drink', 'pr': 85, 'qn': 100},\n",
       " '1004': {'name': 'Candy', 'pr': 5, 'qn': 970},\n",
       " '1005': {'name': 'Pen', 'pr': 20, 'qn': 100},\n",
       " '1006': {'name': 'Phone', 'pr': 50000, 'qn': 7},\n",
       " '1007': {'name': 'Mic', 'pr': 1500, 'qn': 100},\n",
       " '1008': {'name': 'Case', 'pr': 599, 'qn': 100},\n",
       " '1009': {'name': 'Keyboard', 'pr': 1999, 'qn': 100},\n",
       " '1010': {'name': 'Mouse', 'pr': 500, 'qn': 40},\n",
       " '1011': {'name': 'Pencil', 'pr': 50, 'qn': 100},\n",
       " '1012': {'name': 'Charger', 'pr': 1499, 'qn': 10},\n",
       " '1013': {'name': 'Earphones', 'pr': 1299, 'qn': 150},\n",
       " '1014': {'name': 'Coca Cola', 'pr': 45, 'qn': 200},\n",
       " '1015': {'name': 'Bread', 'pr': 25, 'qn': 180},\n",
       " '1016': {'name': 'Milk', 'pr': 50, 'qn': 400},\n",
       " '1017': {'name': 'Dove soap', 'pr': 40, 'qn': 60},\n",
       " '1018': {'name': 'Butter', 'pr': 250, 'qn': 50},\n",
       " '1019': {'name': 'Detergent powder', 'pr': 300, 'qn': 100},\n",
       " '1021': {'name': 'Basmati Rice', 'pr': 90, 'qn': 117},\n",
       " '1022': {'name': 'Wheat Flour', 'pr': 40, 'qn': 500},\n",
       " '1023': {'name': 'Salt', 'pr': 25, 'qn': 300},\n",
       " '1024': {'name': 'Cookies', 'pr': 50, 'qn': 80},\n",
       " '1025': {'name': 'Namkeen', 'pr': 160, 'qn': 30},\n",
       " '1026': {'name': 'Chewing Gum', 'pr': 10, 'qn': 20},\n",
       " '1027': {'name': 'Frooti', 'pr': 30, 'qn': 300},\n",
       " '1028': {'name': 'Sanitizer', 'pr': 70, 'qn': 400},\n",
       " '1029': {'name': 'Crayons', 'pr': 220, 'qn': 300}}"
      ]
     },
     "execution_count": 2,
     "metadata": {},
     "output_type": "execute_result"
    }
   ],
   "source": [
    "records"
   ]
  },
  {
   "cell_type": "code",
   "execution_count": 3,
   "metadata": {},
   "outputs": [
    {
     "data": {
      "text/plain": [
       "dict_values([{'name': 'Choco Cake', 'qn': 34, 'pr': 100}, {'name': 'Milk Cake', 'pr': 700, 'qn': 100}, {'name': 'Drink', 'pr': 85, 'qn': 100}, {'name': 'Candy', 'pr': 5, 'qn': 970}, {'name': 'Pen', 'pr': 20, 'qn': 100}, {'name': 'Phone', 'pr': 50000, 'qn': 7}, {'name': 'Mic', 'pr': 1500, 'qn': 100}, {'name': 'Case', 'pr': 599, 'qn': 100}, {'name': 'Keyboard', 'pr': 1999, 'qn': 100}, {'name': 'Mouse', 'pr': 500, 'qn': 40}, {'name': 'Pencil', 'pr': 50, 'qn': 100}, {'name': 'Charger', 'pr': 1499, 'qn': 10}, {'name': 'Earphones', 'pr': 1299, 'qn': 150}, {'name': 'Coca Cola', 'pr': 45, 'qn': 200}, {'name': 'Bread', 'pr': 25, 'qn': 180}, {'name': 'Milk', 'pr': 50, 'qn': 400}, {'name': 'Dove soap', 'pr': 40, 'qn': 60}, {'name': 'Butter', 'pr': 250, 'qn': 50}, {'name': 'Detergent powder', 'pr': 300, 'qn': 100}, {'name': 'Basmati Rice', 'pr': 90, 'qn': 117}, {'name': 'Wheat Flour', 'pr': 40, 'qn': 500}, {'name': 'Salt', 'pr': 25, 'qn': 300}, {'name': 'Cookies', 'pr': 50, 'qn': 80}, {'name': 'Namkeen', 'pr': 160, 'qn': 30}, {'name': 'Chewing Gum', 'pr': 10, 'qn': 20}, {'name': 'Frooti', 'pr': 30, 'qn': 300}, {'name': 'Sanitizer', 'pr': 70, 'qn': 400}, {'name': 'Crayons', 'pr': 220, 'qn': 300}])"
      ]
     },
     "execution_count": 3,
     "metadata": {},
     "output_type": "execute_result"
    }
   ],
   "source": [
    "# all the values inside the dictionary records\n",
    "records.values()"
   ]
  },
  {
   "cell_type": "markdown",
   "metadata": {
    "id": "WI5f7HTuxwzb"
   },
   "source": [
    "## To show ⏱️ Time and 📆 Date details on the bill, by importing some module"
   ]
  },
  {
   "cell_type": "code",
   "execution_count": 4,
   "metadata": {},
   "outputs": [],
   "source": [
    "# 1. Time\n",
    "from datetime import datetime\n",
    "now = datetime.now()\n",
    "curr_time = now.strftime(\"%H:%M:%S\")\n",
    "\n",
    "# 2. Date\n",
    "from datetime import date\n",
    "today = date.today()\n",
    "curr_date = today.strftime(\"%d/%m/%Y\")"
   ]
  },
  {
   "cell_type": "code",
   "execution_count": null,
   "metadata": {},
   "outputs": [],
   "source": []
  },
  {
   "cell_type": "markdown",
   "metadata": {},
   "source": [
    "# ✱Generating the Purchase BILL✱"
   ]
  },
  {
   "cell_type": "code",
   "execution_count": 5,
   "metadata": {
    "colab": {
     "base_uri": "https://localhost:8080/"
    },
    "id": "c4E4eIvyuth0",
    "outputId": "91896933-af33-4e3e-ad2b-478c1243c6a3"
   },
   "outputs": [
    {
     "name": "stdin",
     "output_type": "stream",
     "text": [
      "Enter the product_id:  100\n"
     ]
    },
    {
     "name": "stdout",
     "output_type": "stream",
     "text": [
      "Record does not exist!!!\n",
      "Please Try Again!!!\n"
     ]
    }
   ],
   "source": [
    "# accepting the product id and quantity of products\n",
    "ui_prod  = str(input(\"Enter the product_id: \"))\n",
    "\n",
    "if ui_prod not in records:\n",
    "    print(\"Record does not exist!!!\")\n",
    "    print(\"Please Try Again!!!\")\n",
    "\n",
    "elif ui_prod in records:\n",
    "    ui_quant = int(input(\"Enter number of items(quantity): \"))\n",
    "    q = ui_quant\n",
    "\n",
    "    # bill details of shop and also date and time details\n",
    "    print(\"\\n\\t****************************************\")\n",
    "    print(\"\\t\\t   ABC MART AND SALES\")\n",
    "    print(\"\\t\\t       PUNE 41012\")\n",
    "    print(\"\\t\\tCONTACT NO. 020-24051263\")\n",
    "    print(\"\\t       TIME OF PURCHASE:\",curr_time)\n",
    "    print(\"\\t      DATE OF PURCHASE:\",curr_date)\n",
    "    print(\"\\t****************************************\")\n",
    "\n",
    "\n",
    "    # calculating 3% GST on product\n",
    "    g = 0.03 * records[ui_prod]['pr'] * q\n",
    "    # converting gst to type string\n",
    "    gst = str(g)\n",
    "    # upto 2 floating decimal values\n",
    "    gst = gst[0:4]\n",
    "\n",
    "    print(\"\\nProduct\\t\\tPrice\\t\\tQuantity\\tGST\")\n",
    "    print(records[ui_prod]['name'], end=' ')\n",
    "    print(\"\\t\\t\",records[ui_prod]['pr'], end=' ')\n",
    "    print(\"\\t\\t\", q, end=' ')\n",
    "    print(\"\\t\\t\", gst)\n",
    "\n",
    "    # converting gst top floating point number\n",
    "    gst = float(gst)\n",
    "\n",
    "\n",
    "    print(\"\\n   Please note that 3% GST is applied on your bill.\\n\")\n",
    "    print(\"\\n******************************************\")\n",
    "    print(\"Billing Amount: \", records[ui_prod]['pr'] * ui_quant + gst)\n",
    "    print(\"******************************************\")\n",
    "\n",
    "    print(\"Thank you for shopping!!! \\U0001F600 \")\n",
    "\n",
    "    # update the quantity of product after purchase\n",
    "    records[ui_prod]['qn'] = records[ui_prod]['qn'] - ui_quant"
   ]
  },
  {
   "cell_type": "code",
   "execution_count": null,
   "metadata": {},
   "outputs": [],
   "source": []
  },
  {
   "cell_type": "code",
   "execution_count": 6,
   "metadata": {},
   "outputs": [
    {
     "name": "stdin",
     "output_type": "stream",
     "text": [
      "Enter the product_id:  1016\n",
      "Enter number of items(quantity):  5\n"
     ]
    },
    {
     "name": "stdout",
     "output_type": "stream",
     "text": [
      "\n",
      "\t****************************************\n",
      "\t\t   ABC MART AND SALES\n",
      "\t\t       PUNE 41012\n",
      "\t\tCONTACT NO. 020-24051263\n",
      "\t       TIME OF PURCHASE: 19:45:11\n",
      "\t      DATE OF PURCHASE: 06/09/2021\n",
      "\t****************************************\n",
      "\n",
      "Product\t\tPrice\t\tQuantity\tGST\n",
      "Milk \t\t 50 \t\t 5 \t\t 7.5\n",
      "\n",
      "   Please note that 3% GST is applied on your bill.\n",
      "\n",
      "\n",
      "******************************************\n",
      "Billing Amount:  257.5\n",
      "******************************************\n",
      "Thank you for shopping!!! 😀 \n"
     ]
    }
   ],
   "source": [
    "# accepting the product id and quantity of products\n",
    "ui_prod  = str(input(\"Enter the product_id: \"))\n",
    "\n",
    "if ui_prod not in records:\n",
    "    print(\"Record does not exist\")\n",
    "\n",
    "elif ui_prod in records:\n",
    "    ui_quant = int(input(\"Enter number of items(quantity): \"))\n",
    "    q = ui_quant\n",
    "\n",
    "    # bill details of shop and also date and time details\n",
    "    print(\"\\n\\t****************************************\")\n",
    "    print(\"\\t\\t   ABC MART AND SALES\")\n",
    "    print(\"\\t\\t       PUNE 41012\")\n",
    "    print(\"\\t\\tCONTACT NO. 020-24051263\")\n",
    "    print(\"\\t       TIME OF PURCHASE:\",curr_time)\n",
    "    print(\"\\t      DATE OF PURCHASE:\",curr_date)\n",
    "    print(\"\\t****************************************\")\n",
    "\n",
    "\n",
    "    # calculating 3% GST on product\n",
    "    g = 0.03 * records[ui_prod]['pr'] * q\n",
    "    # converting gst to type string\n",
    "    gst = str(g)\n",
    "    # upto 2 floating decimal values\n",
    "    gst = gst[0:4]\n",
    "\n",
    "    print(\"\\nProduct\\t\\tPrice\\t\\tQuantity\\tGST\")\n",
    "    print(records[ui_prod]['name'], end=' ')\n",
    "    print(\"\\t\\t\",records[ui_prod]['pr'], end=' ')\n",
    "    print(\"\\t\\t\", q, end=' ')\n",
    "    print(\"\\t\\t\", gst)\n",
    "\n",
    "    # converting gst top floating point number\n",
    "    gst = float(gst)\n",
    "\n",
    "\n",
    "    print(\"\\n   Please note that 3% GST is applied on your bill.\\n\")\n",
    "    print(\"\\n******************************************\")\n",
    "    print(\"Billing Amount: \", records[ui_prod]['pr'] * ui_quant + gst)\n",
    "    print(\"******************************************\")\n",
    "\n",
    "    print(\"Thank you for shopping!!! \\U0001F600 \")\n",
    "\n",
    "    # update the quantity of product after purchase\n",
    "    records[ui_prod]['qn'] = records[ui_prod]['qn'] - ui_quant"
   ]
  },
  {
   "cell_type": "code",
   "execution_count": null,
   "metadata": {},
   "outputs": [],
   "source": []
  },
  {
   "cell_type": "markdown",
   "metadata": {
    "id": "3h8S8JBVx1_D"
   },
   "source": [
    "# ➡ Update Inventory after purchase"
   ]
  },
  {
   "cell_type": "code",
   "execution_count": 7,
   "metadata": {
    "id": "TO68fUvvwzXt"
   },
   "outputs": [],
   "source": [
    "js = json.dumps(records)\n",
    "\n",
    "fd = open(\"record.json\",'w')\n",
    "fd.write(js)\n",
    "fd.close()"
   ]
  },
  {
   "cell_type": "markdown",
   "metadata": {
    "id": "pl_p5yDpyu_9"
   },
   "source": [
    "# ➡ SALES JSON"
   ]
  },
  {
   "cell_type": "code",
   "execution_count": 8,
   "metadata": {
    "colab": {
     "base_uri": "https://localhost:8080/"
    },
    "id": "FwBezn_LxBV4",
    "outputId": "e1fb37d9-17c3-4cde-de23-4f9057e74203"
   },
   "outputs": [
    {
     "data": {
      "text/plain": [
       "{'prod': '1016', 'qn': 5, 'amount': 257.5}"
      ]
     },
     "execution_count": 8,
     "metadata": {},
     "output_type": "execute_result"
    }
   ],
   "source": [
    "{'prod' : ui_prod, 'qn' : ui_quant, 'amount': records[ui_prod]['pr'] * ui_quant + gst}"
   ]
  },
  {
   "cell_type": "code",
   "execution_count": 9,
   "metadata": {
    "id": "6R0kXinOyWbK"
   },
   "outputs": [],
   "source": [
    "sales = {1 : {'prod' : ui_prod, 'qn' : ui_quant, 'amount': records[ui_prod]['pr'] * ui_quant + gst}}"
   ]
  },
  {
   "cell_type": "markdown",
   "metadata": {},
   "source": [
    "# 📄 Creating Sales File"
   ]
  },
  {
   "cell_type": "code",
   "execution_count": 10,
   "metadata": {
    "colab": {
     "base_uri": "https://localhost:8080/",
     "height": 52
    },
    "id": "LRbOdbiUycNe",
    "outputId": "d2f68e95-b223-4d6b-f3f0-155466fc18a0"
   },
   "outputs": [],
   "source": [
    "sale = json.dumps(sales)"
   ]
  },
  {
   "cell_type": "code",
   "execution_count": 11,
   "metadata": {},
   "outputs": [],
   "source": [
    "# writing the records into file\n",
    "fd = open(\"sales.json\",\"w\")\n",
    "\n",
    "r = fd.write(sale)\n",
    "\n",
    "fd.close()"
   ]
  },
  {
   "cell_type": "markdown",
   "metadata": {},
   "source": [
    "# 🔍 Reading the record saved inside sales.json"
   ]
  },
  {
   "cell_type": "code",
   "execution_count": 12,
   "metadata": {},
   "outputs": [],
   "source": [
    "f = open(\"sales.json\",\"r\")\n",
    "\n",
    "# read variable to read the text inside file\n",
    "r = f.read()\n",
    "\n",
    "f.close()"
   ]
  },
  {
   "cell_type": "code",
   "execution_count": 13,
   "metadata": {},
   "outputs": [
    {
     "data": {
      "text/plain": [
       "'{\"1\": {\"prod\": \"1016\", \"qn\": 5, \"amount\": 257.5}}'"
      ]
     },
     "execution_count": 13,
     "metadata": {},
     "output_type": "execute_result"
    }
   ],
   "source": [
    "r"
   ]
  },
  {
   "cell_type": "code",
   "execution_count": 14,
   "metadata": {},
   "outputs": [],
   "source": [
    "import json\n",
    "\n",
    "# The loads() method allows us to convert a JSON string into an equivalent python object (dictionary)\n",
    "\n",
    "# read mode\n",
    "r = json.loads(r)"
   ]
  },
  {
   "cell_type": "code",
   "execution_count": 15,
   "metadata": {},
   "outputs": [
    {
     "data": {
      "text/plain": [
       "{'1': {'prod': '1016', 'qn': 5, 'amount': 257.5}}"
      ]
     },
     "execution_count": 15,
     "metadata": {},
     "output_type": "execute_result"
    }
   ],
   "source": [
    "r"
   ]
  },
  {
   "cell_type": "markdown",
   "metadata": {},
   "source": [
    "# ✔ The record is successfully saved inside sales.json"
   ]
  },
  {
   "cell_type": "code",
   "execution_count": 23,
   "metadata": {},
   "outputs": [
    {
     "data": {
      "text/plain": [
       "False"
      ]
     },
     "execution_count": 23,
     "metadata": {},
     "output_type": "execute_result"
    }
   ],
   "source": [
    "ui_prod not in records.keys()"
   ]
  },
  {
   "cell_type": "code",
   "execution_count": 25,
   "metadata": {},
   "outputs": [
    {
     "data": {
      "text/plain": [
       "dict_keys(['1001', '1002', '1003', '1004', '1005', '1006', '1007', '1008', '1009', '1010', '1011', '1012', '1013', '1014', '1015', '1016', '1017', '1018', '1019', '1021', '1022', '1023', '1024', '1025', '1026', '1027', '1028', '1029'])"
      ]
     },
     "execution_count": 25,
     "metadata": {},
     "output_type": "execute_result"
    }
   ],
   "source": [
    "records.keys()"
   ]
  },
  {
   "cell_type": "code",
   "execution_count": null,
   "metadata": {},
   "outputs": [],
   "source": []
  }
 ],
 "metadata": {
  "colab": {
   "name": "Purchasing Products",
   "provenance": []
  },
  "kernelspec": {
   "display_name": "Python 3",
   "language": "python",
   "name": "python3"
  },
  "language_info": {
   "codemirror_mode": {
    "name": "ipython",
    "version": 3
   },
   "file_extension": ".py",
   "mimetype": "text/x-python",
   "name": "python",
   "nbconvert_exporter": "python",
   "pygments_lexer": "ipython3",
   "version": "3.8.8"
  }
 },
 "nbformat": 4,
 "nbformat_minor": 4
}
