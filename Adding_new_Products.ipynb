{
 "cells": [
  {
   "cell_type": "markdown",
   "metadata": {},
   "source": [
    "<b style=font-size:18px;>Anusha Khandelwal <br>\n",
    "LinkedIn Profile: https://www.linkedin.com/in/anusha-khandelwal-052799146 </b>"
   ]
  },
  {
   "cell_type": "markdown",
   "metadata": {},
   "source": [
    "# 🎯 ELITE TECHNO GROUP🎯\n",
    "## ✲ PYTHON FOR ML/AI"
   ]
  },
  {
   "cell_type": "markdown",
   "metadata": {},
   "source": [
    "# Project 1: Inventory Management using JSON"
   ]
  },
  {
   "cell_type": "markdown",
   "metadata": {},
   "source": []
  },
  {
   "cell_type": "markdown",
   "metadata": {
    "id": "j9rSMgKytN9V"
   },
   "source": [
    "## ➤  Read Data from JSON 📄"
   ]
  },
  {
   "cell_type": "markdown",
   "metadata": {},
   "source": [
    "## ❖ A JSON file is a NO SQL file i.e there is no database table ❖"
   ]
  },
  {
   "cell_type": "code",
   "execution_count": 1,
   "metadata": {
    "tags": []
   },
   "outputs": [],
   "source": [
    "# open record.json file having records of product stored into it"
   ]
  },
  {
   "cell_type": "code",
   "execution_count": 2,
   "metadata": {
    "id": "wlQdKmzYpRok"
   },
   "outputs": [],
   "source": [
    "# opening the file in read mode\n",
    "fd = open(\"record.json\",'r')\n",
    "\n",
    "# read variable to read the text inside file\n",
    "read = fd.read()\n",
    "\n",
    "fd.close()"
   ]
  },
  {
   "cell_type": "markdown",
   "metadata": {},
   "source": [
    "## 🔍 Reading the data present inside JSON file"
   ]
  },
  {
   "cell_type": "code",
   "execution_count": 3,
   "metadata": {},
   "outputs": [
    {
     "data": {
      "text/plain": [
       "'{\"1001\": {\"name\": \"Choco Cake\", \"qn\": 34, \"pr\": 100}, \"1002\": {\"name\": \"Milk Cake\", \"pr\": 700, \"qn\": 100}, \"1003\": {\"name\": \"Drink\", \"pr\": 85, \"qn\": 100}, \"1004\": {\"name\": \"Candy\", \"pr\": 5, \"qn\": 970}, \"1005\": {\"name\": \"Pen\", \"pr\": 20, \"qn\": 100}, \"1006\": {\"name\": \"Phone\", \"pr\": 50000, \"qn\": 7}, \"1007\": {\"name\": \"Mic\", \"pr\": 1500, \"qn\": 100}, \"1008\": {\"name\": \"Case\", \"pr\": 599, \"qn\": 100}, \"1009\": {\"name\": \"Keyboard\", \"pr\": 1999, \"qn\": 100}, \"1010\": {\"name\": \"Mouse\", \"pr\": 500, \"qn\": 40}, \"1011\": {\"name\": \"Pencil\", \"pr\": 50, \"qn\": 100}, \"1012\": {\"name\": \"Charger\", \"pr\": 1499, \"qn\": 10}, \"1013\": {\"name\": \"Earphones\", \"pr\": 1299, \"qn\": 150}, \"1014\": {\"name\": \"Coca Cola\", \"pr\": 45, \"qn\": 200}, \"1015\": {\"name\": \"Bread\", \"pr\": 25, \"qn\": 180}, \"1016\": {\"name\": \"Milk\", \"pr\": 50, \"qn\": 400}, \"1017\": {\"name\": \"Dove soap\", \"pr\": 40, \"qn\": 60}, \"1018\": {\"name\": \"Butter\", \"pr\": 250, \"qn\": 50}, \"1019\": {\"name\": \"Detergent powder\", \"pr\": 300, \"qn\": 100}, \"1021\": {\"name\": \"Basmati Rice\", \"pr\": 90, \"qn\": 117}, \"1022\": {\"name\": \"Wheat Flour\", \"pr\": 40, \"qn\": 500}, \"1023\": {\"name\": \"Salt\", \"pr\": 25, \"qn\": 300}, \"1024\": {\"name\": \"Cookies\", \"pr\": 50, \"qn\": 80}, \"1025\": {\"name\": \"Namkeen\", \"pr\": 160, \"qn\": 30}, \"1026\": {\"name\": \"Chewing Gum\", \"pr\": 10, \"qn\": 20}, \"1027\": {\"name\": \"Frooti\", \"pr\": 30, \"qn\": 300}, \"1028\": {\"name\": \"Sanitizer\", \"pr\": 70, \"qn\": 400}, \"1029\": {\"name\": \"Crayons\", \"pr\": 220, \"qn\": 300}}'"
      ]
     },
     "execution_count": 3,
     "metadata": {},
     "output_type": "execute_result"
    }
   ],
   "source": [
    "read"
   ]
  },
  {
   "cell_type": "markdown",
   "metadata": {},
   "source": [
    "## ➨Import the JSON module"
   ]
  },
  {
   "cell_type": "code",
   "execution_count": 4,
   "metadata": {},
   "outputs": [],
   "source": [
    "import json\n",
    "\n",
    "# The loads() method allows us to convert a JSON string into an equivalent python object (dictionary)\n",
    "\n",
    "# read mode\n",
    "record = json.loads(read)"
   ]
  },
  {
   "cell_type": "code",
   "execution_count": 5,
   "metadata": {
    "colab": {
     "base_uri": "https://localhost:8080/"
    },
    "id": "N8fCrfQHqlUN",
    "outputId": "04f7a640-bbad-429c-d7d1-686ca5ec14e2"
   },
   "outputs": [
    {
     "data": {
      "text/plain": [
       "{'1001': {'name': 'Choco Cake', 'qn': 34, 'pr': 100},\n",
       " '1002': {'name': 'Milk Cake', 'pr': 700, 'qn': 100},\n",
       " '1003': {'name': 'Drink', 'pr': 85, 'qn': 100},\n",
       " '1004': {'name': 'Candy', 'pr': 5, 'qn': 970},\n",
       " '1005': {'name': 'Pen', 'pr': 20, 'qn': 100},\n",
       " '1006': {'name': 'Phone', 'pr': 50000, 'qn': 7},\n",
       " '1007': {'name': 'Mic', 'pr': 1500, 'qn': 100},\n",
       " '1008': {'name': 'Case', 'pr': 599, 'qn': 100},\n",
       " '1009': {'name': 'Keyboard', 'pr': 1999, 'qn': 100},\n",
       " '1010': {'name': 'Mouse', 'pr': 500, 'qn': 40},\n",
       " '1011': {'name': 'Pencil', 'pr': 50, 'qn': 100},\n",
       " '1012': {'name': 'Charger', 'pr': 1499, 'qn': 10},\n",
       " '1013': {'name': 'Earphones', 'pr': 1299, 'qn': 150},\n",
       " '1014': {'name': 'Coca Cola', 'pr': 45, 'qn': 200},\n",
       " '1015': {'name': 'Bread', 'pr': 25, 'qn': 180},\n",
       " '1016': {'name': 'Milk', 'pr': 50, 'qn': 400},\n",
       " '1017': {'name': 'Dove soap', 'pr': 40, 'qn': 60},\n",
       " '1018': {'name': 'Butter', 'pr': 250, 'qn': 50},\n",
       " '1019': {'name': 'Detergent powder', 'pr': 300, 'qn': 100},\n",
       " '1021': {'name': 'Basmati Rice', 'pr': 90, 'qn': 117},\n",
       " '1022': {'name': 'Wheat Flour', 'pr': 40, 'qn': 500},\n",
       " '1023': {'name': 'Salt', 'pr': 25, 'qn': 300},\n",
       " '1024': {'name': 'Cookies', 'pr': 50, 'qn': 80},\n",
       " '1025': {'name': 'Namkeen', 'pr': 160, 'qn': 30},\n",
       " '1026': {'name': 'Chewing Gum', 'pr': 10, 'qn': 20},\n",
       " '1027': {'name': 'Frooti', 'pr': 30, 'qn': 300},\n",
       " '1028': {'name': 'Sanitizer', 'pr': 70, 'qn': 400},\n",
       " '1029': {'name': 'Crayons', 'pr': 220, 'qn': 300}}"
      ]
     },
     "execution_count": 5,
     "metadata": {},
     "output_type": "execute_result"
    }
   ],
   "source": [
    "# this will display all the records present inside the record.json file\n",
    "record"
   ]
  },
  {
   "cell_type": "markdown",
   "metadata": {},
   "source": [
    "# ✔ Add New Item To The Inventory"
   ]
  },
  {
   "cell_type": "code",
   "execution_count": 6,
   "metadata": {
    "colab": {
     "base_uri": "https://localhost:8080/"
    },
    "id": "f61BridoqxZN",
    "outputId": "4919a5d7-b839-41df-ec08-b4f39107e984"
   },
   "outputs": [
    {
     "name": "stdout",
     "output_type": "stream",
     "text": [
      "Please note last item id is: 1029\n",
      "******************************************\n",
      "\n"
     ]
    },
    {
     "name": "stdin",
     "output_type": "stream",
     "text": [
      "Enter Product Id: 1030\n",
      "Enter Name: Comb\n",
      "Enter Price: 35\n",
      "Enter Quantity: 100\n"
     ]
    },
    {
     "name": "stdout",
     "output_type": "stream",
     "text": [
      "\n",
      "******************************************\n",
      "✓ Record added successfully to the file!!!\n",
      "******************************************\n"
     ]
    }
   ],
   "source": [
    "# to fetch last saved product id in the JSON File\n",
    "last = sorted(dict.keys(record))[-1]\n",
    "print(\"Please note last item id is:\",last)\n",
    "print(\"******************************************\\n\")\n",
    "\n",
    "# INPUTTING DATA TO ADD INVENTORY ITEMS\n",
    "prod_id = str(input(\"Enter Product Id:\"))\n",
    "\n",
    "# 1st condition: If the product id exist then the record will not be accepted \n",
    "if prod_id in record.keys():\n",
    "    print(\"-------------------------------------------------------------------\")    \n",
    "    print(f\"The record already exists, ID:'{prod_id}' \")\n",
    "    print(\"Try again '\\U0001F641' \")\n",
    "    print(\"-------------------------------------------------------------------\")\n",
    "\n",
    "    # previous JSON records will be overwritten      \n",
    "    js = json.dumps(record)\n",
    "    fd = open(\"record.json\",'w') \n",
    "    fd.write(js)\n",
    "    fd.close()\n",
    "    \n",
    "# 2nd condition: If the product id is new and does not exist then the record will be accepted!!!\n",
    "elif prod_id not in record.keys():    \n",
    "    name = str(input(\"Enter Name:\"))\n",
    "    pr = int(input(\"Enter Price:\"))\n",
    "    qn = int(input(\"Enter Quantity:\"))\n",
    "        \n",
    "    record[prod_id] = {'name': name, 'pr': pr, 'qn': qn}\n",
    "    \n",
    "    # this will save the new record into the JSON file\n",
    "    js = json.dumps(record)\n",
    "    print(\"\\n******************************************\")\n",
    "    print(\"\\u2713 Record added successfully to the file!!!\")\n",
    "    print(\"******************************************\")\n",
    "       \n",
    "\n",
    "# write mode will overwrite the whole file and save the records\n",
    "fd = open(\"record.json\",'w') \n",
    "fd.write(js)\n",
    "fd.close()"
   ]
  },
  {
   "cell_type": "code",
   "execution_count": 7,
   "metadata": {},
   "outputs": [
    {
     "name": "stdout",
     "output_type": "stream",
     "text": [
      "Please note last item id is: 1030\n",
      "******************************************\n",
      "\n"
     ]
    },
    {
     "name": "stdin",
     "output_type": "stream",
     "text": [
      "Enter Product Id: 1022\n"
     ]
    },
    {
     "name": "stdout",
     "output_type": "stream",
     "text": [
      "-------------------------------------------------------------------\n",
      "The record already exists, ID:'1022' \n",
      "Try again '🙁' \n",
      "-------------------------------------------------------------------\n"
     ]
    }
   ],
   "source": [
    "# to fetch last saved product id in the JSON File\n",
    "last = sorted(dict.keys(record))[-1]\n",
    "print(\"Please note last item id is:\",last)\n",
    "print(\"******************************************\\n\")\n",
    "\n",
    "# INPUTTING DATA TO ADD INVENTORY ITEMS\n",
    "prod_id = str(input(\"Enter Product Id:\"))\n",
    "\n",
    "# 1st condition: If the product id exist then the record will not be accepted \n",
    "if prod_id in record.keys():\n",
    "    print(\"-------------------------------------------------------------------\")    \n",
    "    print(f\"The record already exists, ID:'{prod_id}' \")\n",
    "    print(\"Try again '\\U0001F641' \")\n",
    "    print(\"-------------------------------------------------------------------\")\n",
    "\n",
    "    # previous JSON records will be overwritten      \n",
    "    js = json.dumps(record)\n",
    "    fd = open(\"record.json\",'w') \n",
    "    fd.write(js)\n",
    "    fd.close()\n",
    "    \n",
    "# 2nd condition: If the product id is new and does not exist then the record will be accepted!!!\n",
    "elif prod_id not in record.keys():    \n",
    "    name = str(input(\"Enter Name:\"))\n",
    "    pr = int(input(\"Enter Price:\"))\n",
    "    qn = int(input(\"Enter Quantity:\"))\n",
    "        \n",
    "    record[prod_id] = {'name': name, 'pr': pr, 'qn': qn}\n",
    "    \n",
    "    # this will save the new record into the JSON file\n",
    "    js = json.dumps(record)\n",
    "    print(\"\\n******************************************\")\n",
    "    print(\"\\u2713 Record added successfully to the file!!!\")\n",
    "    print(\"******************************************\")\n",
    "       \n",
    "\n",
    "# write mode will overwrite the whole file and save the records\n",
    "fd = open(\"record.json\",'w') \n",
    "fd.write(js)\n",
    "fd.close()"
   ]
  },
  {
   "cell_type": "code",
   "execution_count": null,
   "metadata": {},
   "outputs": [],
   "source": []
  },
  {
   "cell_type": "code",
   "execution_count": null,
   "metadata": {},
   "outputs": [],
   "source": []
  },
  {
   "cell_type": "markdown",
   "metadata": {},
   "source": [
    "# ➡ Lets check the inventory records after adding the new record"
   ]
  },
  {
   "cell_type": "code",
   "execution_count": 8,
   "metadata": {},
   "outputs": [
    {
     "data": {
      "text/plain": [
       "{'1001': {'name': 'Choco Cake', 'qn': 34, 'pr': 100},\n",
       " '1002': {'name': 'Milk Cake', 'pr': 700, 'qn': 100},\n",
       " '1003': {'name': 'Drink', 'pr': 85, 'qn': 100},\n",
       " '1004': {'name': 'Candy', 'pr': 5, 'qn': 970},\n",
       " '1005': {'name': 'Pen', 'pr': 20, 'qn': 100},\n",
       " '1006': {'name': 'Phone', 'pr': 50000, 'qn': 7},\n",
       " '1007': {'name': 'Mic', 'pr': 1500, 'qn': 100},\n",
       " '1008': {'name': 'Case', 'pr': 599, 'qn': 100},\n",
       " '1009': {'name': 'Keyboard', 'pr': 1999, 'qn': 100},\n",
       " '1010': {'name': 'Mouse', 'pr': 500, 'qn': 40},\n",
       " '1011': {'name': 'Pencil', 'pr': 50, 'qn': 100},\n",
       " '1012': {'name': 'Charger', 'pr': 1499, 'qn': 10},\n",
       " '1013': {'name': 'Earphones', 'pr': 1299, 'qn': 150},\n",
       " '1014': {'name': 'Coca Cola', 'pr': 45, 'qn': 200},\n",
       " '1015': {'name': 'Bread', 'pr': 25, 'qn': 180},\n",
       " '1016': {'name': 'Milk', 'pr': 50, 'qn': 400},\n",
       " '1017': {'name': 'Dove soap', 'pr': 40, 'qn': 60},\n",
       " '1018': {'name': 'Butter', 'pr': 250, 'qn': 50},\n",
       " '1019': {'name': 'Detergent powder', 'pr': 300, 'qn': 100},\n",
       " '1021': {'name': 'Basmati Rice', 'pr': 90, 'qn': 117},\n",
       " '1022': {'name': 'Wheat Flour', 'pr': 40, 'qn': 500},\n",
       " '1023': {'name': 'Salt', 'pr': 25, 'qn': 300},\n",
       " '1024': {'name': 'Cookies', 'pr': 50, 'qn': 80},\n",
       " '1025': {'name': 'Namkeen', 'pr': 160, 'qn': 30},\n",
       " '1026': {'name': 'Chewing Gum', 'pr': 10, 'qn': 20},\n",
       " '1027': {'name': 'Frooti', 'pr': 30, 'qn': 300},\n",
       " '1028': {'name': 'Sanitizer', 'pr': 70, 'qn': 400},\n",
       " '1029': {'name': 'Crayons', 'pr': 220, 'qn': 300},\n",
       " '1030': {'name': 'Comb', 'pr': 35, 'qn': 100}}"
      ]
     },
     "execution_count": 8,
     "metadata": {},
     "output_type": "execute_result"
    }
   ],
   "source": [
    "record"
   ]
  },
  {
   "cell_type": "markdown",
   "metadata": {},
   "source": [
    "# 🔨 Delete An Item From The Inventory"
   ]
  },
  {
   "cell_type": "code",
   "execution_count": 9,
   "metadata": {
    "colab": {
     "base_uri": "https://localhost:8080/"
    },
    "id": "fqLcVGqqt_cO",
    "outputId": "889a130b-8562-4a35-d430-645ff64724d3"
   },
   "outputs": [
    {
     "data": {
      "text/plain": [
       "{'1001': {'name': 'Choco Cake', 'qn': 34, 'pr': 100},\n",
       " '1002': {'name': 'Milk Cake', 'pr': 700, 'qn': 100},\n",
       " '1003': {'name': 'Drink', 'pr': 85, 'qn': 100},\n",
       " '1004': {'name': 'Candy', 'pr': 5, 'qn': 970},\n",
       " '1005': {'name': 'Pen', 'pr': 20, 'qn': 100},\n",
       " '1006': {'name': 'Phone', 'pr': 50000, 'qn': 7},\n",
       " '1007': {'name': 'Mic', 'pr': 1500, 'qn': 100},\n",
       " '1008': {'name': 'Case', 'pr': 599, 'qn': 100},\n",
       " '1009': {'name': 'Keyboard', 'pr': 1999, 'qn': 100},\n",
       " '1010': {'name': 'Mouse', 'pr': 500, 'qn': 40},\n",
       " '1011': {'name': 'Pencil', 'pr': 50, 'qn': 100},\n",
       " '1012': {'name': 'Charger', 'pr': 1499, 'qn': 10},\n",
       " '1013': {'name': 'Earphones', 'pr': 1299, 'qn': 150},\n",
       " '1014': {'name': 'Coca Cola', 'pr': 45, 'qn': 200},\n",
       " '1015': {'name': 'Bread', 'pr': 25, 'qn': 180},\n",
       " '1016': {'name': 'Milk', 'pr': 50, 'qn': 400},\n",
       " '1017': {'name': 'Dove soap', 'pr': 40, 'qn': 60},\n",
       " '1018': {'name': 'Butter', 'pr': 250, 'qn': 50},\n",
       " '1019': {'name': 'Detergent powder', 'pr': 300, 'qn': 100},\n",
       " '1021': {'name': 'Basmati Rice', 'pr': 90, 'qn': 117},\n",
       " '1022': {'name': 'Wheat Flour', 'pr': 40, 'qn': 500},\n",
       " '1023': {'name': 'Salt', 'pr': 25, 'qn': 300},\n",
       " '1024': {'name': 'Cookies', 'pr': 50, 'qn': 80},\n",
       " '1025': {'name': 'Namkeen', 'pr': 160, 'qn': 30},\n",
       " '1026': {'name': 'Chewing Gum', 'pr': 10, 'qn': 20},\n",
       " '1027': {'name': 'Frooti', 'pr': 30, 'qn': 300},\n",
       " '1028': {'name': 'Sanitizer', 'pr': 70, 'qn': 400},\n",
       " '1029': {'name': 'Crayons', 'pr': 220, 'qn': 300},\n",
       " '1030': {'name': 'Comb', 'pr': 35, 'qn': 100}}"
      ]
     },
     "execution_count": 9,
     "metadata": {},
     "output_type": "execute_result"
    }
   ],
   "source": [
    "# inventory records\n",
    "record"
   ]
  },
  {
   "cell_type": "code",
   "execution_count": 10,
   "metadata": {
    "id": "Mh8xAFUk7qFv"
   },
   "outputs": [
    {
     "name": "stdout",
     "output_type": "stream",
     "text": [
      "Delete a record from JSON File:- \n"
     ]
    },
    {
     "name": "stdin",
     "output_type": "stream",
     "text": [
      "\n",
      "Enter product id: 200\n"
     ]
    },
    {
     "name": "stdout",
     "output_type": "stream",
     "text": [
      "-------------------------------------------------------------------\n",
      "The Product Id record: 200 does not exists please recheck it !!!\n",
      "RECORD DELETION UNSUCCESSFUL.\n",
      "-------------------------------------------------------------------\n"
     ]
    }
   ],
   "source": [
    "print(\"Delete a record from JSON File:- \")\n",
    "\n",
    "# accept the product id\n",
    "d = input(\"\\nEnter product id:\")\n",
    "\n",
    "# condition 1: If the product id exist then delete the record successfully\n",
    "if d in record.keys():\n",
    "    del record[d]\n",
    "    print(\"-------------------------------------------------------------------\")    \n",
    "    print(f\"The Product Id {d} record deleted successfully!!!\")\n",
    "    print(\"-------------------------------------------------------------------\")\n",
    "\n",
    "# condition 2: Else show message that product id record does not exist\n",
    "elif d not in record.keys():\n",
    "    print(\"-------------------------------------------------------------------\")\n",
    "    print(f\"The Product Id record: {d} does not exists please recheck it !!!\")\n",
    "    print(\"RECORD DELETION UNSUCCESSFUL.\")\n",
    "    print(\"-------------------------------------------------------------------\")\n",
    "\n",
    "# update record after deletion\n",
    "new_record = record"
   ]
  },
  {
   "cell_type": "code",
   "execution_count": 11,
   "metadata": {},
   "outputs": [
    {
     "name": "stdout",
     "output_type": "stream",
     "text": [
      "Delete a record from JSON File:- \n"
     ]
    },
    {
     "name": "stdin",
     "output_type": "stream",
     "text": [
      "\n",
      "Enter product id: 1030\n"
     ]
    },
    {
     "name": "stdout",
     "output_type": "stream",
     "text": [
      "-------------------------------------------------------------------\n",
      "The Product Id 1030 record deleted successfully!!!\n",
      "-------------------------------------------------------------------\n"
     ]
    }
   ],
   "source": [
    "print(\"Delete a record from JSON File:- \")\n",
    "\n",
    "# accept the product id\n",
    "d = input(\"\\nEnter product id:\")\n",
    "\n",
    "# condition 1: If the product id exist then delete the record successfully\n",
    "if d in record.keys():\n",
    "    del record[d]\n",
    "    print(\"-------------------------------------------------------------------\")    \n",
    "    print(f\"The Product Id {d} record deleted successfully!!!\")\n",
    "    print(\"-------------------------------------------------------------------\")\n",
    "\n",
    "# condition 2: Else show message that product id record does not exist\n",
    "elif d not in record.keys():\n",
    "    print(\"-------------------------------------------------------------------\")\n",
    "    print(f\"The Product Id record: {d} does not exists please recheck it !!!\")\n",
    "    print(\"RECORD DELETION UNSUCCESSFUL.\")\n",
    "    print(\"-------------------------------------------------------------------\")\n",
    "\n",
    "# update record after deletion\n",
    "new_record = record"
   ]
  },
  {
   "cell_type": "markdown",
   "metadata": {},
   "source": [
    "# ➡ Updating the record.json file after deletion of record"
   ]
  },
  {
   "cell_type": "code",
   "execution_count": 12,
   "metadata": {},
   "outputs": [],
   "source": [
    "# update record after deletion\n",
    "new_record = record\n",
    "\n",
    "# update the file using dumps() method\n",
    "js = json.dumps(new_record)\n",
    "\n",
    "# write mode will make the data inside new_record will be overwritten\n",
    "\n",
    "fd = open(\"record.json\",'w')\n",
    "fd.write(js)\n",
    "fd.close()"
   ]
  },
  {
   "cell_type": "markdown",
   "metadata": {},
   "source": [
    "# ✔ Inventory File after updation"
   ]
  },
  {
   "cell_type": "code",
   "execution_count": 13,
   "metadata": {
    "colab": {
     "base_uri": "https://localhost:8080/"
    },
    "id": "n0UdHaVVFFLB",
    "outputId": "af2d581b-583d-4be6-fd62-425bcd2343ea"
   },
   "outputs": [
    {
     "data": {
      "text/plain": [
       "{'1001': {'name': 'Choco Cake', 'qn': 34, 'pr': 100},\n",
       " '1002': {'name': 'Milk Cake', 'pr': 700, 'qn': 100},\n",
       " '1003': {'name': 'Drink', 'pr': 85, 'qn': 100},\n",
       " '1004': {'name': 'Candy', 'pr': 5, 'qn': 970},\n",
       " '1005': {'name': 'Pen', 'pr': 20, 'qn': 100},\n",
       " '1006': {'name': 'Phone', 'pr': 50000, 'qn': 7},\n",
       " '1007': {'name': 'Mic', 'pr': 1500, 'qn': 100},\n",
       " '1008': {'name': 'Case', 'pr': 599, 'qn': 100},\n",
       " '1009': {'name': 'Keyboard', 'pr': 1999, 'qn': 100},\n",
       " '1010': {'name': 'Mouse', 'pr': 500, 'qn': 40},\n",
       " '1011': {'name': 'Pencil', 'pr': 50, 'qn': 100},\n",
       " '1012': {'name': 'Charger', 'pr': 1499, 'qn': 10},\n",
       " '1013': {'name': 'Earphones', 'pr': 1299, 'qn': 150},\n",
       " '1014': {'name': 'Coca Cola', 'pr': 45, 'qn': 200},\n",
       " '1015': {'name': 'Bread', 'pr': 25, 'qn': 180},\n",
       " '1016': {'name': 'Milk', 'pr': 50, 'qn': 400},\n",
       " '1017': {'name': 'Dove soap', 'pr': 40, 'qn': 60},\n",
       " '1018': {'name': 'Butter', 'pr': 250, 'qn': 50},\n",
       " '1019': {'name': 'Detergent powder', 'pr': 300, 'qn': 100},\n",
       " '1021': {'name': 'Basmati Rice', 'pr': 90, 'qn': 117},\n",
       " '1022': {'name': 'Wheat Flour', 'pr': 40, 'qn': 500},\n",
       " '1023': {'name': 'Salt', 'pr': 25, 'qn': 300},\n",
       " '1024': {'name': 'Cookies', 'pr': 50, 'qn': 80},\n",
       " '1025': {'name': 'Namkeen', 'pr': 160, 'qn': 30},\n",
       " '1026': {'name': 'Chewing Gum', 'pr': 10, 'qn': 20},\n",
       " '1027': {'name': 'Frooti', 'pr': 30, 'qn': 300},\n",
       " '1028': {'name': 'Sanitizer', 'pr': 70, 'qn': 400},\n",
       " '1029': {'name': 'Crayons', 'pr': 220, 'qn': 300}}"
      ]
     },
     "execution_count": 13,
     "metadata": {},
     "output_type": "execute_result"
    }
   ],
   "source": [
    "new_record"
   ]
  },
  {
   "cell_type": "code",
   "execution_count": null,
   "metadata": {},
   "outputs": [],
   "source": []
  }
 ],
 "metadata": {
  "colab": {
   "name": "Adding new Products",
   "provenance": []
  },
  "kernelspec": {
   "display_name": "Python 3",
   "language": "python",
   "name": "python3"
  },
  "language_info": {
   "codemirror_mode": {
    "name": "ipython",
    "version": 3
   },
   "file_extension": ".py",
   "mimetype": "text/x-python",
   "name": "python",
   "nbconvert_exporter": "python",
   "pygments_lexer": "ipython3",
   "version": "3.8.8"
  }
 },
 "nbformat": 4,
 "nbformat_minor": 4
}
